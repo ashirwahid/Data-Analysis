{
  "nbformat": 4,
  "nbformat_minor": 0,
  "metadata": {
    "kernelspec": {
      "display_name": "Python 3 (ipykernel)",
      "language": "python",
      "name": "python3"
    },
    "language_info": {
      "codemirror_mode": {
        "name": "ipython",
        "version": 3
      },
      "file_extension": ".py",
      "mimetype": "text/x-python",
      "name": "python",
      "nbconvert_exporter": "python",
      "pygments_lexer": "ipython3",
      "version": "3.8.10"
    },
    "colab": {
      "name": "Homework#2.ipynb",
      "provenance": []
    }
  },
  "cells": [
    {
      "cell_type": "markdown",
      "metadata": {
        "id": "0e7D0HjftEyP"
      },
      "source": [
        "# Homework #2\n",
        "### Assignment\n",
        "1. Define a function <code>euclidean_distance</code> that computes the distance between two 1D vectors of size n according to the formula:\n",
        "\n",
        "$$\n",
        "d(a,b) = \\sqrt{\\sum_{i=1}^n{(a_i - b_i)^2}}\n",
        "$$\n",
        "\n",
        "The function should check that the vector have the same size and implement the simplest iterative version and the two methods proposed within this lecture, selectable by an additional parameter <code>mode</code> of the function.\n",
        "\n",
        "Test the function with pairs of randomly generated vectors of size [5, 10, 20, 50] and measure its performance with the %timeit magic.\n",
        "\n",
        "2. Solve the following linear equations system, in the form $Ax = b$, using numpy functions described in the present lecture:\n",
        "\n",
        "$$\n",
        "4x + 3y + 2z = 25 \\\\\n",
        "-2x + 2y + 3z = -10 \\\\\n",
        "3x -5y + 2z = -4\n",
        "$$\n",
        "\n",
        "Please rename this notebook trailing with student's name and family name:\n",
        "\n",
        ">e.g. <code>Lecture#1_Mario_Rossi.ipynb</code>\n",
        "\n",
        "### Add below your solution to questions 1 & 2 "
      ]
    },
    {
      "cell_type": "code",
      "metadata": {
        "colab": {
          "base_uri": "https://localhost:8080/"
        },
        "id": "tJrq1_7cAoKN",
        "outputId": "368da0f1-fe68-4508-bcde-dc9205263353"
      },
      "source": [
        "#@title Questions 2\n",
        "\n",
        "import numpy as np\n",
        "\n",
        "a = np.array([[4,3,2],[-2,2,3],[3,-5,2]])\n",
        "b = np.array([25,-10,-4])\n",
        "x = np.linalg.inv(a).dot(b)\n",
        "\n",
        "print (x)\n",
        "\n",
        "x2 = np.linalg.solve(a,b)\n",
        "print (x2)\n"
      ],
      "execution_count": 17,
      "outputs": [
        {
          "output_type": "stream",
          "name": "stdout",
          "text": [
            "[ 5.  3. -2.]\n",
            "[ 5.  3. -2.]\n"
          ]
        }
      ]
    },
    {
      "cell_type": "code",
      "metadata": {
        "colab": {
          "base_uri": "https://localhost:8080/"
        },
        "cellView": "form",
        "id": "k241Se1dtEyc",
        "outputId": "088cd1e5-1310-421c-cb99-8dd6fd0484b8"
      },
      "source": [
        "import numpy as np\n",
        "#size = 5\n",
        "a = np.random.randint(10, size=5)\n",
        "b = np.random.randint(10, size=5)\n",
        "\n",
        "#check for same size\n",
        "if(a.size==b.size):\n",
        "  print('a = {}'.format(a))\n",
        "  print('b = {}'.format(b))\n",
        "\n",
        "  %timeit np.sqrt(np.sum(np.square(a-b))) # with the sum of squares\n",
        "  MSE = np.sqrt(np.sum(np.square(a-b))) # with the sum of squares\n",
        "\n",
        "  print('Euclidean distance = {:.3f}'.format(MSE))\n",
        "\n",
        "  %timeit np.sqrt(np.dot(a-b,a-b)) # using dot product\n",
        "  MSE = np.sqrt(np.dot(a-b,a-b)) # using dot product\n",
        "\n",
        "  print('Euclidean distance DP= {:.3f}'.format(MSE))\n",
        "\n",
        "else:\n",
        "  print (\"not same vector\")"
      ],
      "execution_count": 27,
      "outputs": [
        {
          "output_type": "stream",
          "name": "stdout",
          "text": [
            "a = [6 4 1 1 9]\n",
            "b = [3 6 3 2 6]\n",
            "The slowest run took 7.92 times longer than the fastest. This could mean that an intermediate result is being cached.\n",
            "100000 loops, best of 5: 7.9 µs per loop\n",
            "Euclidean distance = 5.196\n",
            "The slowest run took 6.74 times longer than the fastest. This could mean that an intermediate result is being cached.\n",
            "100000 loops, best of 5: 4.18 µs per loop\n",
            "Euclidean distance DP= 5.196\n"
          ]
        }
      ]
    },
    {
      "cell_type": "code",
      "metadata": {
        "colab": {
          "base_uri": "https://localhost:8080/"
        },
        "id": "WWpMgkbz_7KQ",
        "outputId": "18156a82-9851-499b-c54d-245ee9d4d816"
      },
      "source": [
        "import numpy as np\n",
        "#size = 5\n",
        "a = np.random.randint(10, size=10)\n",
        "b = np.random.randint(10, size=10)\n",
        "\n",
        "#check for same size\n",
        "if(a.size==b.size):\n",
        "  print('a = {}'.format(a))\n",
        "  print('b = {}'.format(b))\n",
        "\n",
        "  %timeit np.sqrt(np.sum(np.square(a-b))) # with the sum of squares\n",
        "  MSE = np.sqrt(np.sum(np.square(a-b))) # with the sum of squares\n",
        "\n",
        "  print('Euclidean distance = {:.3f}'.format(MSE))\n",
        "\n",
        "  %timeit np.sqrt(np.dot(a-b,a-b)) # using dot product\n",
        "  MSE = np.sqrt(np.dot(a-b,a-b)) # using dot product\n",
        "\n",
        "  print('Euclidean distance DP= {:.3f}'.format(MSE))\n",
        "\n",
        "else:\n",
        "  print (\"not same vector\")"
      ],
      "execution_count": 28,
      "outputs": [
        {
          "output_type": "stream",
          "name": "stdout",
          "text": [
            "a = [2 3 3 7 5 8 1 0 3 3]\n",
            "b = [5 4 9 1 1 3 0 2 9 2]\n",
            "The slowest run took 12.57 times longer than the fastest. This could mean that an intermediate result is being cached.\n",
            "100000 loops, best of 5: 7.91 µs per loop\n",
            "Euclidean distance = 12.845\n",
            "The slowest run took 7.07 times longer than the fastest. This could mean that an intermediate result is being cached.\n",
            "100000 loops, best of 5: 4.23 µs per loop\n",
            "Euclidean distance DP= 12.845\n"
          ]
        }
      ]
    },
    {
      "cell_type": "code",
      "metadata": {
        "colab": {
          "base_uri": "https://localhost:8080/"
        },
        "id": "B3uNjTYOACV7",
        "outputId": "65948c8f-1e5d-47a7-9ce9-0106e61c64f7"
      },
      "source": [
        "import numpy as np\n",
        "#size = 5\n",
        "a = np.random.randint(10, size=20)\n",
        "b = np.random.randint(10, size=20)\n",
        "\n",
        "#check for same size\n",
        "if(a.size==b.size):\n",
        "  print('a = {}'.format(a))\n",
        "  print('b = {}'.format(b))\n",
        "\n",
        "  %timeit np.sqrt(np.sum(np.square(a-b))) # with the sum of squares\n",
        "  MSE = np.sqrt(np.sum(np.square(a-b))) # with the sum of squares\n",
        "\n",
        "  print('Euclidean distance = {:.3f}'.format(MSE))\n",
        "\n",
        "  %timeit np.sqrt(np.dot(a-b,a-b)) # using dot product\n",
        "  MSE = np.sqrt(np.dot(a-b,a-b)) # using dot product\n",
        "\n",
        "  print('Euclidean distance DP= {:.3f}'.format(MSE))\n",
        "\n",
        "else:\n",
        "  print (\"not same vector\")"
      ],
      "execution_count": 29,
      "outputs": [
        {
          "output_type": "stream",
          "name": "stdout",
          "text": [
            "a = [1 8 9 2 1 5 7 1 8 8 1 4 5 7 4 4 1 2 8 4]\n",
            "b = [0 3 1 0 8 9 7 8 6 2 0 5 2 3 4 2 4 1 0 6]\n",
            "The slowest run took 7.69 times longer than the fastest. This could mean that an intermediate result is being cached.\n",
            "100000 loops, best of 5: 7.95 µs per loop\n",
            "Euclidean distance = 18.894\n",
            "The slowest run took 10.71 times longer than the fastest. This could mean that an intermediate result is being cached.\n",
            "100000 loops, best of 5: 4.34 µs per loop\n",
            "Euclidean distance DP= 18.894\n"
          ]
        }
      ]
    },
    {
      "cell_type": "code",
      "metadata": {
        "colab": {
          "base_uri": "https://localhost:8080/"
        },
        "id": "9GRUIgrZAGl7",
        "outputId": "0cd5b123-48e3-4d89-9b48-d6da2abdca4a"
      },
      "source": [
        "import numpy as np\n",
        "#size = 5\n",
        "a = np.random.randint(10, size=50)\n",
        "b = np.random.randint(10, size=50)\n",
        "\n",
        "#check for same size\n",
        "if(a.size==b.size):\n",
        "  print('a = {}'.format(a))\n",
        "  print('b = {}'.format(b))\n",
        "\n",
        "  %timeit np.sqrt(np.sum(np.square(a-b))) # with the sum of squares\n",
        "  MSE = np.sqrt(np.sum(np.square(a-b))) # with the sum of squares\n",
        "\n",
        "  print('Euclidean distance = {:.3f}'.format(MSE))\n",
        "\n",
        "  %timeit np.sqrt(np.dot(a-b,a-b)) # using dot product\n",
        "  MSE = np.sqrt(np.dot(a-b,a-b)) # using dot product\n",
        "\n",
        "  print('Euclidean distance DP= {:.3f}'.format(MSE))\n",
        "\n",
        "else:\n",
        "  print (\"not same vector\")"
      ],
      "execution_count": 30,
      "outputs": [
        {
          "output_type": "stream",
          "name": "stdout",
          "text": [
            "a = [5 9 9 5 2 7 8 3 8 0 9 9 8 9 9 2 2 7 6 8 8 6 8 4 8 7 7 5 9 5 2 1 4 1 0 8 8\n",
            " 5 0 4 0 3 0 7 4 2 8 2 9 6]\n",
            "b = [0 5 2 8 7 3 2 1 5 6 1 2 3 1 6 3 1 5 1 9 2 8 0 4 5 1 8 4 0 5 5 3 4 3 6 8 8\n",
            " 6 6 8 6 7 3 2 4 3 5 5 1 4]\n",
            "The slowest run took 85.40 times longer than the fastest. This could mean that an intermediate result is being cached.\n",
            "100000 loops, best of 5: 8.04 µs per loop\n",
            "Euclidean distance = 31.289\n",
            "The slowest run took 17.99 times longer than the fastest. This could mean that an intermediate result is being cached.\n",
            "100000 loops, best of 5: 4.31 µs per loop\n",
            "Euclidean distance DP= 31.289\n"
          ]
        }
      ]
    }
  ]
}